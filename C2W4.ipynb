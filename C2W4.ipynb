{
 "cells": [
  {
   "cell_type": "markdown",
   "metadata": {},
   "source": [
    "# My Jupyter Notebook on IBM Watson Studio"
   ]
  },
  {
   "cell_type": "markdown",
   "metadata": {},
   "source": [
    "**Kesavan Komandur**\n",
    "Physics College Student"
   ]
  },
  {
   "cell_type": "markdown",
   "metadata": {},
   "source": [
    "*I got interested in data science as a career option after analysing a lot of experimental data in college and school projects.*"
   ]
  },
  {
   "cell_type": "markdown",
   "metadata": {},
   "source": [
    "### The following code will print \"Hello World\" and also print the sum of 4+4 in the next line."
   ]
  },
  {
   "cell_type": "code",
   "execution_count": 1,
   "metadata": {},
   "outputs": [
    {
     "name": "stdout",
     "output_type": "stream",
     "text": [
      "Hello World\n",
      "\n",
      "8\n"
     ]
    }
   ],
   "source": [
    "print (\"Hello World\\n\")\n",
    "print(4+4)"
   ]
  },
  {
   "cell_type": "markdown",
   "metadata": {},
   "source": [
    "Planets are:\n",
    " - Mercury\n",
    " - Venus\n",
    " - Earth\n",
    " - Mars\n",
    " - Jupiter\n",
    " - Saturn\n",
    " - Uranus\n",
    " - Neptune\n",
    " - ~~Pluto~~\n",
    " \n",
    "List of 3 Stars:\n",
    "1. Sun\n",
    "2. Proxima Centauri\n",
    "3. Betelguese"
   ]
  },
  {
   "cell_type": "code",
   "execution_count": null,
   "metadata": {},
   "outputs": [],
   "source": []
  }
 ],
 "metadata": {
  "kernelspec": {
   "display_name": "Python 3",
   "language": "python",
   "name": "python3"
  },
  "language_info": {
   "codemirror_mode": {
    "name": "ipython",
    "version": 3
   },
   "file_extension": ".py",
   "mimetype": "text/x-python",
   "name": "python",
   "nbconvert_exporter": "python",
   "pygments_lexer": "ipython3",
   "version": "3.7.6"
  }
 },
 "nbformat": 4,
 "nbformat_minor": 4
}
